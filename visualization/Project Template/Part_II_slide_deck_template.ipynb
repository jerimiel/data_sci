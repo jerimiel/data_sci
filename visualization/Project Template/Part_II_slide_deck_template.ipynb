{
 "cells": [
  {
   "cell_type": "markdown",
   "metadata": {
    "slideshow": {
     "slide_type": "slide"
    },
    "tags": []
   },
   "source": [
    "# Part II - (Presentation Title)\n",
    "## by (your name here)"
   ]
  },
  {
   "cell_type": "markdown",
   "metadata": {
    "slideshow": {
     "slide_type": "slide"
    },
    "tags": []
   },
   "source": [
    ">**Before you start**: You must have the README.md file ready that include a summary of main findings that reflects on the steps taken during the data exploration (Part I notebook). The README.md file should also describes the key insights that will be conveyed by the explanatory slide deck (Part II  outcome)\n",
    "\n",
    "\n",
    "\n",
    "## Investigation Overview\n",
    "\n",
    "\n",
    "> Describe the overall goals of your presentation here. Add a summary of key insights at the start of the notebook, just as you added in the README.md. This will help your notebook to stay aligned to the key insights you want to include in your slide deck.\n",
    "\n",
    "> **Rubric Tip**: The key insights in the slideshow must match those documented in the README.md summary. \n",
    "\n",
    "\n",
    "## Dataset Overview\n",
    "\n",
    "> Provide a brief overview of the dataset to be presented here."
   ]
  },
  {
   "cell_type": "code",
   "execution_count": 2,
   "metadata": {
    "slideshow": {
     "slide_type": "skip"
    }
   },
   "outputs": [],
   "source": [
    "# import all packages and set plots to be embedded inline\n",
    "import numpy as np\n",
    "import pandas as pd\n",
    "import matplotlib.pyplot as plt\n",
    "import seaborn as sb\n",
    "\n",
    "%matplotlib inline\n",
    "\n",
    "# suppress warnings from final output\n",
    "import warnings\n",
    "warnings.simplefilter(\"ignore\")"
   ]
  },
  {
   "cell_type": "code",
   "execution_count": 4,
   "metadata": {
    "slideshow": {
     "slide_type": "skip"
    }
   },
   "outputs": [
    {
     "data": {
      "text/html": [
       "<div>\n",
       "<style scoped>\n",
       "    .dataframe tbody tr th:only-of-type {\n",
       "        vertical-align: middle;\n",
       "    }\n",
       "\n",
       "    .dataframe tbody tr th {\n",
       "        vertical-align: top;\n",
       "    }\n",
       "\n",
       "    .dataframe thead th {\n",
       "        text-align: right;\n",
       "    }\n",
       "</style>\n",
       "<table border=\"1\" class=\"dataframe\">\n",
       "  <thead>\n",
       "    <tr style=\"text-align: right;\">\n",
       "      <th></th>\n",
       "      <th>duration_sec</th>\n",
       "      <th>start_time</th>\n",
       "      <th>end_time</th>\n",
       "      <th>start_station_id</th>\n",
       "      <th>end_station_id</th>\n",
       "      <th>user_type</th>\n",
       "      <th>member_gender</th>\n",
       "      <th>bike_share_for_all_trip</th>\n",
       "      <th>start_day</th>\n",
       "      <th>distance</th>\n",
       "      <th>age</th>\n",
       "      <th>age_group</th>\n",
       "      <th>duration_split</th>\n",
       "    </tr>\n",
       "  </thead>\n",
       "  <tbody>\n",
       "    <tr>\n",
       "      <th>0</th>\n",
       "      <td>52185</td>\n",
       "      <td>2019-02-28 17:32:10.145</td>\n",
       "      <td>2019-03-01 08:01:55.975</td>\n",
       "      <td>21</td>\n",
       "      <td>13</td>\n",
       "      <td>Customer</td>\n",
       "      <td>Male</td>\n",
       "      <td>No</td>\n",
       "      <td>28</td>\n",
       "      <td>0.338829</td>\n",
       "      <td>34</td>\n",
       "      <td>20-40</td>\n",
       "      <td>max_duration</td>\n",
       "    </tr>\n",
       "    <tr>\n",
       "      <th>1</th>\n",
       "      <td>61854</td>\n",
       "      <td>2019-02-28 12:13:13.218</td>\n",
       "      <td>2019-03-01 05:24:08.146</td>\n",
       "      <td>86</td>\n",
       "      <td>3</td>\n",
       "      <td>Customer</td>\n",
       "      <td>Male</td>\n",
       "      <td>No</td>\n",
       "      <td>28</td>\n",
       "      <td>1.682328</td>\n",
       "      <td>46</td>\n",
       "      <td>41-60</td>\n",
       "      <td>max_duration</td>\n",
       "    </tr>\n",
       "    <tr>\n",
       "      <th>2</th>\n",
       "      <td>36490</td>\n",
       "      <td>2019-02-28 17:54:26.010</td>\n",
       "      <td>2019-03-01 04:02:36.842</td>\n",
       "      <td>375</td>\n",
       "      <td>70</td>\n",
       "      <td>Subscriber</td>\n",
       "      <td>Other</td>\n",
       "      <td>No</td>\n",
       "      <td>28</td>\n",
       "      <td>0.162189</td>\n",
       "      <td>29</td>\n",
       "      <td>20-40</td>\n",
       "      <td>max_duration</td>\n",
       "    </tr>\n",
       "    <tr>\n",
       "      <th>3</th>\n",
       "      <td>1585</td>\n",
       "      <td>2019-02-28 23:54:18.549</td>\n",
       "      <td>2019-03-01 00:20:44.074</td>\n",
       "      <td>7</td>\n",
       "      <td>222</td>\n",
       "      <td>Subscriber</td>\n",
       "      <td>Male</td>\n",
       "      <td>Yes</td>\n",
       "      <td>28</td>\n",
       "      <td>1.498675</td>\n",
       "      <td>44</td>\n",
       "      <td>41-60</td>\n",
       "      <td>max_duration</td>\n",
       "    </tr>\n",
       "    <tr>\n",
       "      <th>4</th>\n",
       "      <td>1793</td>\n",
       "      <td>2019-02-28 23:49:58.632</td>\n",
       "      <td>2019-03-01 00:19:51.760</td>\n",
       "      <td>93</td>\n",
       "      <td>323</td>\n",
       "      <td>Subscriber</td>\n",
       "      <td>Male</td>\n",
       "      <td>No</td>\n",
       "      <td>28</td>\n",
       "      <td>2.072755</td>\n",
       "      <td>59</td>\n",
       "      <td>41-60</td>\n",
       "      <td>max_duration</td>\n",
       "    </tr>\n",
       "  </tbody>\n",
       "</table>\n",
       "</div>"
      ],
      "text/plain": [
       "   duration_sec               start_time                 end_time  \\\n",
       "0         52185  2019-02-28 17:32:10.145  2019-03-01 08:01:55.975   \n",
       "1         61854  2019-02-28 12:13:13.218  2019-03-01 05:24:08.146   \n",
       "2         36490  2019-02-28 17:54:26.010  2019-03-01 04:02:36.842   \n",
       "3          1585  2019-02-28 23:54:18.549  2019-03-01 00:20:44.074   \n",
       "4          1793  2019-02-28 23:49:58.632  2019-03-01 00:19:51.760   \n",
       "\n",
       "   start_station_id  end_station_id   user_type member_gender  \\\n",
       "0                21              13    Customer          Male   \n",
       "1                86               3    Customer          Male   \n",
       "2               375              70  Subscriber         Other   \n",
       "3                 7             222  Subscriber          Male   \n",
       "4                93             323  Subscriber          Male   \n",
       "\n",
       "  bike_share_for_all_trip  start_day  distance  age age_group duration_split  \n",
       "0                      No         28  0.338829   34     20-40   max_duration  \n",
       "1                      No         28  1.682328   46     41-60   max_duration  \n",
       "2                      No         28  0.162189   29     20-40   max_duration  \n",
       "3                     Yes         28  1.498675   44     41-60   max_duration  \n",
       "4                      No         28  2.072755   59     41-60   max_duration  "
      ]
     },
     "execution_count": 4,
     "metadata": {},
     "output_type": "execute_result"
    }
   ],
   "source": [
    "# load in the dataset into a pandas dataframe\n",
    "df_work = pd.read_csv('cleaned_dataset.csv')\n",
    "df_work.head()"
   ]
  },
  {
   "cell_type": "markdown",
   "metadata": {
    "slideshow": {
     "slide_type": "notes"
    }
   },
   "source": [
    "> Note that the above cells have been set as \"Skip\"-type slides. That means\n",
    "that when the notebook is rendered as http slides, those cells won't show up."
   ]
  },
  {
   "cell_type": "markdown",
   "metadata": {
    "slideshow": {
     "slide_type": "slide"
    }
   },
   "source": [
    "## (Visualization 1)\n",
    "\n",
    ">The increase of duration with distance is clear across age_groups is clearly visible. And also the trend where the least distances covered per duration are the age groups <20 and >60 is represented in this graph.\n",
    "\n",
    "> **Rubric Tip**: Provide at least 3 **polished** visualizations to convey key insights. The total number of visualizations in the slideshow shoould be less than 50% of the number of visualizations in the exploratory analysis. For example, if the exploratory analysis (Part I) has 18 visualizations, the slideshow can have (3 - 8) visualizations. \n",
    "\n",
    "\n",
    "> **Rubric Tip**: Each visualization in the slideshow is associated with **descriptive comments** that accurately depict their purpose and your observation. \n",
    "\n",
    "\n",
    "> **Rubric Tip**: All plots in the slideshow are appropriate, meaning the plot type, encodings, and transformations are suitable to the underlying data. \n",
    "\n",
    "> **Rubric Tip**: All plots in the slideshow are polished, meaning all plots have a title, labeled x/y axes (with units), x/y ticks, and legends. "
   ]
  },
  {
   "cell_type": "code",
   "execution_count": 6,
   "metadata": {
    "slideshow": {
     "slide_type": "subslide"
    }
   },
   "outputs": [
    {
     "data": {
      "image/png": "[encoded data removed]",
      "text/plain": [
       "<Figure size 424.875x360 with 1 Axes>"
      ]
     },
     "metadata": {
      "needs_background": "light"
     },
     "output_type": "display_data"
    }
   ],
   "source": [
    "dats = df_work[df_work['distance'] < 40]#To take care of outliers that will skew the result\n",
    "sb.catplot(data = dats, x = 'duration_split', y='distance',hue='age_group', kind = 'bar',order=['min_duration','min-ave','ave_duration','max_duration']);\n",
    "plt.xlabel('duration groups')\n",
    "plt.ylabel('distance (miles)');\n",
    "plt.title('Distance distribution by age group and duration');"
   ]
  },
  {
   "cell_type": "markdown",
   "metadata": {
    "slideshow": {
     "slide_type": "slide"
    }
   },
   "source": [
    "## (Visualization 2)\n",
    "\n",
    "> Average duration of the subcribers is lower than those of customers across all ages even though there are more subscibers than customers."
   ]
  },
  {
   "cell_type": "code",
   "execution_count": 8,
   "metadata": {
    "slideshow": {
     "slide_type": "subslide"
    }
   },
   "outputs": [
    {
     "data": {
      "image/png": "[encoded data removed]",
      "text/plain": [
       "<Figure size 432x288 with 1 Axes>"
      ]
     },
     "metadata": {
      "needs_background": "light"
     },
     "output_type": "display_data"
    }
   ],
   "source": [
    "sb.pointplot(data = df_work , x='age_group',y = 'duration_sec', hue = 'user_type',order=['<20','20-40','41-60','>60']);\n",
    "plt.title('Duration distribution by age group and user type');"
   ]
  },
  {
   "cell_type": "markdown",
   "metadata": {
    "slideshow": {
     "slide_type": "slide"
    }
   },
   "source": [
    "## (Visualization 3)\n",
    "> The plot below can be devided into four quadrants, at the top left we have low duration and high distance, to right is the high duration and large distance, the bottom left is the low duration and small distance and the bottom right with large duration and small distance. Firstly we see that subscribers have the least duration and so are on the left and customers the most duration on the right. The trend of the age groups >60 and < 20 is clear with both covering the least distance in both cases of customers and subscribers.\n"
   ]
  },
  {
   "cell_type": "code",
   "execution_count": 10,
   "metadata": {
    "slideshow": {
     "slide_type": "subslide"
    }
   },
   "outputs": [
    {
     "data": {
      "image/png": "[encoded data removed]",
      "text/plain": [
       "<Figure size 432x288 with 1 Axes>"
      ]
     },
     "metadata": {
      "needs_background": "light"
     },
     "output_type": "display_data"
    }
   ],
   "source": [
    "dats = df_work.groupby(['age_group','user_type']).mean().reset_index()\n",
    "sb.scatterplot(data = dats, x ='duration_sec',y = 'distance',hue = 'age_group',size = 'user_type',sizes = [100,400])\n",
    "plt.legend(bbox_to_anchor=(1.5,1))\n",
    "plt.xlabel('duration')\n",
    "plt.ylabel('distance (miles)')\n",
    "plt.title('Distance vs duration scatter plot showing the age group and user type');\n",
    "plt.grid()"
   ]
  },
  {
   "cell_type": "markdown",
   "metadata": {
    "slideshow": {
     "slide_type": "notes"
    }
   },
   "source": [
    ">**Generate Slideshow**: Once you're ready to generate your slideshow, use the `jupyter nbconvert` command to generate the HTML slide show. . From the terminal or command line, use the following expression."
   ]
  },
  {
   "cell_type": "code",
   "execution_count": null,
   "metadata": {
    "slideshow": {
     "slide_type": "skip"
    }
   },
   "outputs": [],
   "source": [
    "!jupyter nbconvert <Part_II_Filename>.ipynb --to slides --post serve --no-input --no-prompt"
   ]
  },
  {
   "cell_type": "markdown",
   "metadata": {
    "slideshow": {
     "slide_type": "notes"
    }
   },
   "source": [
    "> This should open a tab in your web browser where you can scroll through your presentation. Sub-slides can be accessed by pressing 'down' when viewing its parent slide. Make sure you remove all of the quote-formatted guide notes like this one before you finish your presentation! At last, you can stop the Kernel. "
   ]
  },
  {
   "cell_type": "code",
   "execution_count": null,
   "metadata": {},
   "outputs": [],
   "source": []
  }
 ],
 "metadata": {
  "celltoolbar": "Slideshow",
  "kernelspec": {
   "display_name": "Python 3 (ipykernel)",
   "language": "python",
   "name": "python3"
  },
  "language_info": {
   "codemirror_mode": {
    "name": "ipython",
    "version": 3
   },
   "file_extension": ".py",
   "mimetype": "text/x-python",
   "name": "python",
   "nbconvert_exporter": "python",
   "pygments_lexer": "ipython3",
   "version": "3.10.6"
  }
 },
 "nbformat": 4,
 "nbformat_minor": 4
}
